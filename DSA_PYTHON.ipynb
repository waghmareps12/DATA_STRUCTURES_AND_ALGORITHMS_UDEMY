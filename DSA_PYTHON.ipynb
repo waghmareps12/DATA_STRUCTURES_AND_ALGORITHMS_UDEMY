{
  "cells": [
    {
      "cell_type": "markdown",
      "metadata": {
        "colab_type": "text",
        "id": "view-in-github"
      },
      "source": [
        "<a href=\"https://colab.research.google.com/github/waghmareps12/PYTHON_DSA/blob/main/DSA_PYTHON.ipynb\" target=\"_parent\"><img src=\"https://colab.research.google.com/assets/colab-badge.svg\" alt=\"Open In Colab\"/></a>"
      ]
    },
    {
      "cell_type": "code",
      "execution_count": null,
      "metadata": {
        "id": "2wmvJzEnC_T0"
      },
      "outputs": [],
      "source": []
    },
    {
      "cell_type": "markdown",
      "metadata": {
        "id": "WYk6WxdFGND1"
      },
      "source": [
        "### [Neetcode Roadmap](https://neetcode.io/roadmap)"
      ]
    },
    {
      "cell_type": "markdown",
      "metadata": {
        "id": "-ulD_fAfDNL8"
      },
      "source": [
        "### Leetcode Group Anagrams"
      ]
    },
    {
      "cell_type": "code",
      "execution_count": null,
      "metadata": {
        "colab": {
          "base_uri": "https://localhost:8080/"
        },
        "id": "fVydeq1xYMyK",
        "outputId": "4a9549f9-f8b6-4b92-aac8-f34cc27d9932"
      },
      "outputs": [
        {
          "data": {
            "text/plain": [
              "defaultdict(list, {})"
            ]
          },
          "execution_count": 47,
          "metadata": {},
          "output_type": "execute_result"
        }
      ],
      "source": [
        "strs1 = [\"eat\",\"tea\",\"tan\",\"ate\",\"nat\",\"bat\"]\n",
        "from collections import defaultdict\n",
        "# [[\"bat\"],[\"nat\",\"tan\"],[\"ate\",\"eat\",\"tea\"]]\n",
        "strs = [\"\".join(sorted(s)) for s in strs1]\n",
        "seen  = defaultdict(list)\n",
        "seen"
      ]
    },
    {
      "cell_type": "code",
      "execution_count": null,
      "metadata": {
        "colab": {
          "base_uri": "https://localhost:8080/"
        },
        "id": "SGyp0y3OC_T0",
        "outputId": "a410c732-e4ec-4dcc-9d13-7df334480c5e"
      },
      "outputs": [
        {
          "name": "stdout",
          "output_type": "stream",
          "text": [
            "abt abt 5 bat\n",
            "aet aet 0 eat\n",
            "aet aet 1 tea\n",
            "aet aet 3 ate\n",
            "ant ant 2 tan\n",
            "ant ant 4 nat\n"
          ]
        },
        {
          "data": {
            "text/plain": [
              "[['bat'], ['eat', 'tea', 'ate'], ['tan', 'nat']]"
            ]
          },
          "execution_count": 45,
          "metadata": {},
          "output_type": "execute_result"
        }
      ],
      "source": [
        "strs1 = [\"eat\",\"tea\",\"tan\",\"ate\",\"nat\",\"bat\"]\n",
        "# [[\"bat\"],[\"nat\",\"tan\"],[\"ate\",\"eat\",\"tea\"]]\n",
        "strs = [\"\".join(sorted(s)) for s in strs1]\n",
        "seen = {key: [] for key in set(strs)}\n",
        "for i in seen.keys():\n",
        "  for index, j in enumerate(strs):\n",
        "    if j == i:\n",
        "      print(i, j, index, strs1[index])\n",
        "      seen[i].append(strs1[index])\n",
        "    return [item for item in seen.values()]"
      ]
    },
    {
      "cell_type": "code",
      "execution_count": null,
      "metadata": {
        "id": "YZoKmeXMF4h9"
      },
      "outputs": [],
      "source": [
        "# prompt:\n",
        "\n",
        "def groupAnagrams(strs):\n",
        "  \"\"\"\n",
        "  Given an array of strings strs, group the anagrams together.\n",
        "  Return an array of arrays, where each array is a group of anagrams.\n",
        "  \"\"\"\n",
        "  from collections import defaultdict\n",
        "  seen = defaultdict(list)\n",
        "  for s in strs:\n",
        "    seen[\"\".join(sorted(s))].append(s)\n",
        "  return [item for item in seen.values()]\n"
      ]
    },
    {
      "cell_type": "markdown",
      "metadata": {
        "id": "vqvBK1MrF8Ir"
      },
      "source": [
        "#### 347. Top K Frequent Elements.   [Leetcode Link](https://leetcode.com/problems/top-k-frequent-elements/description/)\n",
        "\n",
        "Given an integer array nums and an integer k, return the k most frequent elements. You may return the answer in any order."
      ]
    },
    {
      "cell_type": "code",
      "execution_count": 3,
      "metadata": {
        "colab": {
          "base_uri": "https://localhost:8080/"
        },
        "id": "6_H1xXthOzFa",
        "outputId": "cfab2871-6db0-4763-caa0-dfd121b28041"
      },
      "outputs": [
        {
          "ename": "NameError",
          "evalue": "name 'frequency' is not defined",
          "output_type": "error",
          "traceback": [
            "\u001b[1;31m---------------------------------------------------------------------------\u001b[0m",
            "\u001b[1;31mNameError\u001b[0m                                 Traceback (most recent call last)",
            "Cell \u001b[1;32mIn[3], line 1\u001b[0m\n\u001b[1;32m----> 1\u001b[0m frequency\n",
            "\u001b[1;31mNameError\u001b[0m: name 'frequency' is not defined"
          ]
        }
      ],
      "source": [
        "frequency"
      ]
    },
    {
      "cell_type": "code",
      "execution_count": 13,
      "metadata": {
        "id": "M3D4VHMbF4WK"
      },
      "outputs": [],
      "source": [
        "from collections import defaultdict\n",
        "nums = [1,1,1,2,2,3]\n",
        "k = 2\n",
        "# class Solution(object):\n",
        "def topKFrequent(nums, k):\n",
        "        \"\"\"\n",
        "        :type nums: List[int]\n",
        "        :type k: int\n",
        "        :rtype: List[int]\n",
        "        \"\"\"\n",
        "        frequency = dict.fromkeys(set(nums), 0)\n",
        "        for i in nums:\n",
        "            frequency[i]+= 1\n",
        "        sorted_items = sorted(frequency.items(), key=lambda x: x[1], reverse=True)\n",
        "        return [item[0] for item in sorted_items[:k]]\n"
      ]
    },
    {
      "cell_type": "code",
      "execution_count": 12,
      "metadata": {
        "colab": {
          "base_uri": "https://localhost:8080/"
        },
        "id": "e8EWpot-F4JI",
        "outputId": "56579571-c7b0-44b9-a6bb-d86636cac218"
      },
      "outputs": [
        {
          "data": {
            "text/plain": [
              "[1, 2]"
            ]
          },
          "execution_count": 12,
          "metadata": {},
          "output_type": "execute_result"
        }
      ],
      "source": [
        "topKFrequent(nums, k)"
      ]
    },
    {
      "cell_type": "code",
      "execution_count": 11,
      "metadata": {
        "colab": {
          "base_uri": "https://localhost:8080/"
        },
        "id": "l4rI_8RsF37D",
        "outputId": "b22c1c65-2fe0-45ed-b0c3-ef4984ed46a2"
      },
      "outputs": [
        {
          "ename": "NameError",
          "evalue": "name 'sorted_items' is not defined",
          "output_type": "error",
          "traceback": [
            "\u001b[1;31m---------------------------------------------------------------------------\u001b[0m",
            "\u001b[1;31mNameError\u001b[0m                                 Traceback (most recent call last)",
            "Cell \u001b[1;32mIn[11], line 1\u001b[0m\n\u001b[1;32m----> 1\u001b[0m sorted_items\n",
            "\u001b[1;31mNameError\u001b[0m: name 'sorted_items' is not defined"
          ]
        }
      ],
      "source": [
        "sorted_items"
      ]
    },
    {
      "cell_type": "markdown",
      "metadata": {
        "id": "qhhLKaBHF2_d"
      },
      "source": [
        "#### 238. Product of Array Except Self   [Leetcode Link](https://leetcode.com/problems/product-of-array-except-self/)\n",
        "\n",
        "Given an integer array nums, return an array answer such that answer[i] is equal to the product of all the elements of nums except nums[i].\n",
        "\n",
        "The product of any prefix or suffix of nums is guaranteed to fit in a 32-bit integer.\n",
        "\n",
        "You must write an algorithm that runs in O(n) time and without using the division operation."
      ]
    },
    {
      "cell_type": "code",
      "execution_count": null,
      "metadata": {},
      "outputs": [],
      "source": [
        "\n",
        "class Solution:\n",
        "    def productExceptSelf(self, nums: List[int]) -> List[int]:\n",
        "        res = [1] * (len(nums))\n",
        "        for i in range(1, len(nums)):\n",
        "            res[i] = res[i-1] * nums[i-1]\n",
        "        postfix = 1\n",
        "        for i in range(len(nums) - 1, -1, -1):\n",
        "            res[i] *= postfix\n",
        "            postfix *= nums[i]\n",
        "        return res\n"
      ]
    },
    {
      "cell_type": "code",
      "execution_count": 2,
      "metadata": {},
      "outputs": [
        {
          "name": "stdout",
          "output_type": "stream",
          "text": [
            "3\n",
            "2\n",
            "1\n",
            "0\n"
          ]
        }
      ],
      "source": [
        "nums = [1,2,3,4]\n",
        "for i in range(len(nums) - 1, -1, -1):\n",
        "    print(i)\n",
        "    "
      ]
    },
    {
      "cell_type": "code",
      "execution_count": null,
      "metadata": {},
      "outputs": [],
      "source": []
    },
    {
      "cell_type": "code",
      "execution_count": 14,
      "metadata": {},
      "outputs": [],
      "source": [
        "word1 = \"abcd\"\n",
        "word2 = \"pqr\""
      ]
    },
    {
      "cell_type": "code",
      "execution_count": 15,
      "metadata": {},
      "outputs": [
        {
          "data": {
            "text/plain": [
              "['p', 'q', 'r']"
            ]
          },
          "execution_count": 15,
          "metadata": {},
          "output_type": "execute_result"
        }
      ],
      "source": [
        "[*word1]\n",
        "[*word2] "
      ]
    },
    {
      "cell_type": "markdown",
      "metadata": {},
      "source": [
        "#### 1768. Merge Strings Alternately [Leetcode Link](https://leetcode.com/problems/merge-strings-alternately/?envType=study-plan-v2&envId=leetcode-75)"
      ]
    },
    {
      "cell_type": "code",
      "execution_count": 28,
      "metadata": {},
      "outputs": [
        {
          "name": "stdout",
          "output_type": "stream",
          "text": [
            "apbqcrdkfkvmkv\n"
          ]
        }
      ],
      "source": [
        "word1 = \"abcd\"\n",
        "word2 = \"pqrkfkvmkv\"\n",
        "list2 = [ ]\n",
        "if len(word1)==len(word2):\n",
        "    for i in range(min(len(word1),len(word2))):\n",
        "        list2.append(word1[i])\n",
        "        list2.append(word2[i])\n",
        "    print(\"\".join(list2))\n",
        "elif len(word1)>len(word2):\n",
        "    wordk = word1[:len(word2)]\n",
        "    for i in range(min(len(word1),len(word2))):\n",
        "        list2.append(wordk[i])\n",
        "        list2.append(word2[i])\n",
        "    list2 = list2 + [*word1[len(word2):]]\n",
        "    print(\"\".join(list2))\n",
        "elif len(word2)>len(word1):\n",
        "    wordk = word2[:len(word1)]\n",
        "    for i in range(min(len(word1),len(word2))):\n",
        "        list2.append(word1[i])\n",
        "        list2.append(wordk[i])\n",
        "    list2 = list2 + [*word2[len(word1):]]\n",
        "    print(\"\".join(list2))\n"
      ]
    },
    {
      "cell_type": "markdown",
      "metadata": {},
      "source": [
        "#### 1071. Greatest Common Divisor of Strings [Leetcode Link](https://leetcode.com/problems/greatest-common-divisor-of-strings/?envType=study-plan-v2&envId=leetcode-75)"
      ]
    },
    {
      "cell_type": "code",
      "execution_count": 47,
      "metadata": {},
      "outputs": [],
      "source": [
        "str1 = \"ABABAB\"\n",
        "str2 = \"ABAB\"\n"
      ]
    },
    {
      "cell_type": "code",
      "execution_count": 41,
      "metadata": {},
      "outputs": [
        {
          "data": {
            "text/plain": [
              "['A', 'B', 'A', 'B', 'A', 'B']"
            ]
          },
          "execution_count": 41,
          "metadata": {},
          "output_type": "execute_result"
        }
      ],
      "source": [
        "[*str1]"
      ]
    },
    {
      "cell_type": "code",
      "execution_count": 42,
      "metadata": {},
      "outputs": [
        {
          "data": {
            "text/plain": [
              "['A', 'B', 'A', 'B']"
            ]
          },
          "execution_count": 42,
          "metadata": {},
          "output_type": "execute_result"
        }
      ],
      "source": [
        "[*str2]"
      ]
    },
    {
      "cell_type": "code",
      "execution_count": 46,
      "metadata": {},
      "outputs": [],
      "source": [
        "from math import gcd"
      ]
    },
    {
      "cell_type": "code",
      "execution_count": 48,
      "metadata": {},
      "outputs": [
        {
          "data": {
            "text/plain": [
              "'AB'"
            ]
          },
          "execution_count": 48,
          "metadata": {},
          "output_type": "execute_result"
        }
      ],
      "source": [
        "str1[:gcd(len(str1),len(str2))]"
      ]
    },
    {
      "cell_type": "code",
      "execution_count": 38,
      "metadata": {},
      "outputs": [
        {
          "data": {
            "text/plain": [
              "10"
            ]
          },
          "execution_count": 38,
          "metadata": {},
          "output_type": "execute_result"
        }
      ],
      "source": [
        "# def gcd(num1,num2):\n",
        "#     l1 =  [div for div in range(1,num1+1) if num1%div==0]\n",
        "#     l2 =  [div for div in range(1,num2+1) if num2%div==0] \n",
        "#     l3 = [num for num in l1 if num in l2]\n",
        "#     return max(l3)\n",
        "# gcd(100,230)\n",
        "    "
      ]
    },
    {
      "cell_type": "markdown",
      "metadata": {},
      "source": [
        "#### 1431. Kids With the Greatest Number of Candies [Leetcode Link](https://leetcode.com/problems/kids-with-the-greatest-number-of-candies/description/?envType=study-plan-v2&envId=leetcode-75)"
      ]
    },
    {
      "cell_type": "markdown",
      "metadata": {},
      "source": [
        "There are n kids with candies. You are given an integer array candies, where each candies[i] represents the number of candies the ith kid has, and an integer extraCandies, denoting the number of extra candies that you have.\n",
        "\n",
        "Return a boolean array result of length n, where result[i] is true if, after giving the ith kid all the extraCandies, they will have the greatest number of candies among all the kids, or false otherwise.\n",
        "\n",
        "Note that multiple kids can have the greatest number of candies."
      ]
    },
    {
      "cell_type": "code",
      "execution_count": null,
      "metadata": {},
      "outputs": [],
      "source": []
    },
    {
      "cell_type": "code",
      "execution_count": null,
      "metadata": {},
      "outputs": [],
      "source": []
    },
    {
      "cell_type": "code",
      "execution_count": null,
      "metadata": {},
      "outputs": [],
      "source": []
    }
  ],
  "metadata": {
    "colab": {
      "include_colab_link": true,
      "provenance": []
    },
    "kernelspec": {
      "display_name": "base",
      "language": "python",
      "name": "python3"
    },
    "language_info": {
      "codemirror_mode": {
        "name": "ipython",
        "version": 3
      },
      "file_extension": ".py",
      "mimetype": "text/x-python",
      "name": "python",
      "nbconvert_exporter": "python",
      "pygments_lexer": "ipython3",
      "version": "3.12.2"
    }
  },
  "nbformat": 4,
  "nbformat_minor": 0
}
