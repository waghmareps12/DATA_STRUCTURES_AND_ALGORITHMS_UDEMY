{
 "cells": [
  {
   "cell_type": "code",
   "execution_count": 1,
   "metadata": {},
   "outputs": [
    {
     "name": "stdout",
     "output_type": "stream",
     "text": [
      "Hello\n"
     ]
    }
   ],
   "source": [
    "print('Hello')"
   ]
  },
  {
   "cell_type": "markdown",
   "metadata": {},
   "source": [
    "### LinkedList"
   ]
  },
  {
   "cell_type": "code",
   "execution_count": 6,
   "metadata": {},
   "outputs": [
    {
     "name": "stdout",
     "output_type": "stream",
     "text": [
      "Head: 4\n",
      "Tail: 4\n",
      "Length: 1\n",
      "4\n"
     ]
    }
   ],
   "source": [
    "class Node:\n",
    "    def __init__(self, value) :\n",
    "        self.value = value\n",
    "        self.next = None\n",
    "\n",
    "        \n",
    "class LinkedList:\n",
    "    def __init__(self, value):\n",
    "        new_node = Node(value)\n",
    "        self.head = new_node\n",
    "        self.tail = new_node\n",
    "        self.length = 1\n",
    "    \n",
    "    def print_list(self):\n",
    "        temp = self.head\n",
    "        while temp is not None:\n",
    "            print(temp.value)\n",
    "            temp = temp.next\n",
    "\n",
    "    def append(self, value):\n",
    "        new_node = Node(value)\n",
    "        if self.head is None:\n",
    "            self.head =new_node\n",
    "            self.tail = new_node\n",
    "        else:\n",
    "            self.tail.next = new_node\n",
    "            self.tail = new_node\n",
    "        self.length+=1\n",
    "        return True\n",
    "    \n",
    "    def pop(self):\n",
    "        if self.length ==0:\n",
    "            return None\n",
    "        else:\n",
    "            temp = self.head\n",
    "            pre = self.head\n",
    "            while temp.next is not None:\n",
    "                pre = temp\n",
    "                temp = temp.next\n",
    "            self.tail = pre\n",
    "            self.tail.next = None\n",
    "            self.length-=1\n",
    "            return temp\n",
    "\n",
    "my_linked_list = LinkedList(4)\n",
    "\n",
    "print('Head:', my_linked_list.head.value)\n",
    "print('Tail:', my_linked_list.tail.value)\n",
    "print('Length:', my_linked_list.length)\n",
    "my_linked_list.print_list()"
   ]
  },
  {
   "cell_type": "code",
   "execution_count": 7,
   "metadata": {},
   "outputs": [
    {
     "name": "stdout",
     "output_type": "stream",
     "text": [
      "2\n",
      "1\n",
      "None\n"
     ]
    }
   ],
   "source": [
    "my_linked_list = LinkedList(1)\n",
    "my_linked_list.append(2)\n",
    "\n",
    "# (2) Items - Returns 2 Node\n",
    "print(my_linked_list.pop().value)\n",
    "# (1) Item -  Returns 1 Node\n",
    "print(my_linked_list.pop().value)\n",
    "# (0) Items - Returns None\n",
    "print(my_linked_list.pop())"
   ]
  }
 ],
 "metadata": {
  "kernelspec": {
   "display_name": "Python 3",
   "language": "python",
   "name": "python3"
  },
  "language_info": {
   "codemirror_mode": {
    "name": "ipython",
    "version": 3
   },
   "file_extension": ".py",
   "mimetype": "text/x-python",
   "name": "python",
   "nbconvert_exporter": "python",
   "pygments_lexer": "ipython3",
   "version": "3.9.5"
  }
 },
 "nbformat": 4,
 "nbformat_minor": 2
}
